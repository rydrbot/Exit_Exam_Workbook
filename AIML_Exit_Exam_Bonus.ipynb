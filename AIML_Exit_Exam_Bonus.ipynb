{
  "nbformat": 4,
  "nbformat_minor": 0,
  "metadata": {
    "colab": {
      "provenance": []
    },
    "kernelspec": {
      "name": "python3",
      "display_name": "Python 3"
    },
    "language_info": {
      "name": "python"
    }
  },
  "cells": [
    {
      "cell_type": "code",
      "execution_count": 1,
      "metadata": {
        "id": "WAWGrkVpcXly"
      },
      "outputs": [],
      "source": [
        "import pandas as pd\n",
        "import string\n",
        "import re\n",
        "import pickle\n",
        "from sklearn.model_selection import train_test_split\n",
        "from sklearn.feature_extraction.text import TfidfVectorizer\n",
        "from sklearn.linear_model import LogisticRegression\n",
        "\n",
        "# Load and preprocess data\n",
        "df = pd.read_csv(\"/content/drive/MyDrive/exit_exam/Reviews.csv\")\n",
        "df = df[['Text', 'Score']].dropna()\n",
        "df = df[df['Score'] != 3]\n",
        "df['Sentiment'] = df['Score'].apply(lambda x: 'Positive' if x >= 4 else 'Negative')\n",
        "\n",
        "def clean_text(text):\n",
        "    text = text.lower()\n",
        "    text = re.sub(f\"[{string.punctuation}]\", \" \", text)\n",
        "    text = re.sub(r\"\\d+\", \"\", text)\n",
        "    return text\n",
        "\n",
        "df['Clean_Text'] = df['Text'].apply(clean_text)\n",
        "\n",
        "X = df['Clean_Text']\n",
        "y = df['Sentiment']\n",
        "\n",
        "X_train, X_test, y_train, y_test = train_test_split(X, y, test_size=0.2, random_state=42)\n",
        "\n",
        "# TF-IDF vectorizer\n",
        "tfidf = TfidfVectorizer(max_features=5000, stop_words='english')\n",
        "X_train_tfidf = tfidf.fit_transform(X_train)\n",
        "X_test_tfidf = tfidf.transform(X_test)\n",
        "\n",
        "# Logistic Regression model\n",
        "lr = LogisticRegression(max_iter=1000)\n",
        "lr.fit(X_train_tfidf, y_train)\n",
        "\n",
        "# Save model and vectorizer\n",
        "with open(\"tfidf.pkl\", \"wb\") as f:\n",
        "    pickle.dump(tfidf, f)\n",
        "with open(\"lr_model.pkl\", \"wb\") as f:\n",
        "    pickle.dump(lr, f)"
      ]
    },
    {
      "cell_type": "markdown",
      "source": [
        "Providing word importance alongside sentiment predictions offers actionable insights for the marketing team. Instead of just seeing a sentiment score, marketers can identify which specific words or phrases most strongly influence customer perception—whether positive or negative."
      ],
      "metadata": {
        "id": "Pg2cV1oYezTO"
      }
    },
    {
      "cell_type": "code",
      "source": [],
      "metadata": {
        "id": "LyBDj5WMfB5X"
      },
      "execution_count": null,
      "outputs": []
    }
  ]
}